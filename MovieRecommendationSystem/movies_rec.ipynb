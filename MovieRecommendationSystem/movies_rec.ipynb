{
  "nbformat": 4,
  "nbformat_minor": 0,
  "metadata": {
    "colab": {
      "provenance": [],
      "gpuType": "V28"
    },
    "kernelspec": {
      "name": "python3",
      "display_name": "Python 3"
    },
    "language_info": {
      "name": "python"
    },
    "accelerator": "TPU"
  },
  "cells": [
    {
      "cell_type": "code",
      "execution_count": 1,
      "metadata": {
        "colab": {
          "base_uri": "https://localhost:8080/"
        },
        "id": "a33j-VYh9xZD",
        "outputId": "71adeeb8-5ba2-48d1-9bce-fcc67cdb56b6"
      },
      "outputs": [
        {
          "output_type": "stream",
          "name": "stdout",
          "text": [
            "Path to dataset files: /kaggle/input/movielens-25m-dataset\n"
          ]
        }
      ],
      "source": [
        "import kagglehub\n",
        "path = kagglehub.dataset_download(\"garymk/movielens-25m-dataset\")\n",
        "\n",
        "print(\"Path to dataset files:\", path)"
      ]
    },
    {
      "cell_type": "code",
      "source": [
        "import shutil\n",
        "try:\n",
        "  shutil.move(\"/kaggle/input/movielens-25m-dataset\",\"/content/data\")\n",
        "except Exception as e:\n",
        "  print(e)"
      ],
      "metadata": {
        "id": "oudE6DEj93Nj",
        "colab": {
          "base_uri": "https://localhost:8080/"
        },
        "outputId": "3be7e387-6917-4b74-e65e-77f66ebfb8de"
      },
      "execution_count": 3,
      "outputs": [
        {
          "output_type": "stream",
          "name": "stdout",
          "text": [
            "Destination path '/content/data/movielens-25m-dataset' already exists\n"
          ]
        }
      ]
    },
    {
      "cell_type": "code",
      "source": [
        "import pandas as pd"
      ],
      "metadata": {
        "id": "qjQ2EQtC-MfA"
      },
      "execution_count": 4,
      "outputs": []
    },
    {
      "cell_type": "code",
      "source": [
        "movies=pd.read_csv(\"/content/data/ml-25m/movies.csv\")\n",
        "movies['org_genres']=movies['genres']\n",
        "movies['genres']=movies['genres'].str.split('|')\n",
        "movies_exp=movies.explode('genres')\n",
        "genres_onehot=pd.get_dummies(movies_exp['genres']).groupby(level=0).max()\n",
        "movies=pd.concat([movies[['movieId','title','org_genres']],genres_onehot],axis=1)"
      ],
      "metadata": {
        "id": "LUkfbeQdoQim"
      },
      "execution_count": 5,
      "outputs": []
    },
    {
      "cell_type": "code",
      "source": [
        "from sklearn.metrics.pairwise import cosine_similarity\n",
        "similarity = cosine_similarity(movies.iloc[:, 3:])\n",
        "\n",
        "def recommend_movies(genre, top_n=10):\n",
        "    genre_movies = movies[movies[genre] == 1]\n",
        "    if genre_movies.empty:\n",
        "        return []\n",
        "    avg_similarity = similarity[genre_movies.index].mean(axis=0)\n",
        "    ranked_indices = avg_similarity.argsort()[::-1]\n",
        "    return movies.iloc[ranked_indices[:top_n]][['title', 'org_genres']]"
      ],
      "metadata": {
        "id": "q1BEtzTTsdvi"
      },
      "execution_count": 6,
      "outputs": []
    },
    {
      "cell_type": "code",
      "source": [
        "movies.to_csv(\"movies_processed.csv\",index=False)\n",
        "import joblib\n",
        "joblib.dump(similarity,\"similarity.joblib\")"
      ],
      "metadata": {
        "colab": {
          "base_uri": "https://localhost:8080/"
        },
        "id": "9hEsWPRhIxd2",
        "outputId": "dc5e4f27-35e0-4f0e-e4f9-ba22ce4c8446"
      },
      "execution_count": 15,
      "outputs": [
        {
          "output_type": "execute_result",
          "data": {
            "text/plain": [
              "['similarity.joblib']"
            ]
          },
          "metadata": {},
          "execution_count": 15
        }
      ]
    },
    {
      "cell_type": "code",
      "source": [
        "import joblib\n",
        "joblib.dump(similarity,\"cos_similarity.joblib\")"
      ],
      "metadata": {
        "colab": {
          "base_uri": "https://localhost:8080/"
        },
        "id": "IyQLdr3GR-i3",
        "outputId": "9a5b2340-aba3-4125-daa8-ef5bf2676f60"
      },
      "execution_count": 7,
      "outputs": [
        {
          "output_type": "execute_result",
          "data": {
            "text/plain": [
              "['cos_similarity.joblib']"
            ]
          },
          "metadata": {},
          "execution_count": 7
        }
      ]
    },
    {
      "cell_type": "code",
      "source": [
        "input_genre = \"Crime\"\n",
        "recommendations = recommend_movies(input_genre)\n",
        "print(recommendations.head())"
      ],
      "metadata": {
        "colab": {
          "base_uri": "https://localhost:8080/"
        },
        "id": "7ykeZVV_tNYs",
        "outputId": "f8ace40c-78fe-438a-b39e-3c8f153f6d78"
      },
      "execution_count": 17,
      "outputs": [
        {
          "output_type": "stream",
          "name": "stdout",
          "text": [
            "                                                   title            org_genres\n",
            "40753                           To Catch a Killer (1992)  Crime|Drama|Thriller\n",
            "109                                   Taxi Driver (1976)  Crime|Drama|Thriller\n",
            "8904   Better Tomorrow II, A (Ying hung boon sik II) ...  Crime|Drama|Thriller\n",
            "22196                                    Headshot (2011)  Crime|Drama|Thriller\n",
            "14509  Varg Veum - Bitter Flowers (Varg Veum - Bitre ...  Crime|Drama|Thriller\n"
          ]
        }
      ]
    },
    {
      "cell_type": "code",
      "source": [],
      "metadata": {
        "id": "U4TCJOM5tTGC"
      },
      "execution_count": null,
      "outputs": []
    }
  ]
}